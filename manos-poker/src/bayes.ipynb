{
 "cells": [
  {
   "cell_type": "code",
   "execution_count": 4,
   "metadata": {
    "collapsed": true
   },
   "outputs": [],
   "source": []
  },
  {
   "cell_type": "code",
   "execution_count": 5,
   "outputs": [
    {
     "data": {
      "text/plain": "   P1  V1  P2  V2  P3  V3  P4  V4  P5  V5  Mano\n0   1   1   1  13   2   4   2   3   1  12     0\n1   3  12   3   2   3  11   4   5   2   5     1\n2   1   9   4   6   1   4   3   2   3   9     1\n3   1   4   3  13   2  13   2   1   3   6     1\n4   3  10   2   7   1   2   2  11   4   9     0",
      "text/html": "<div>\n<style scoped>\n    .dataframe tbody tr th:only-of-type {\n        vertical-align: middle;\n    }\n\n    .dataframe tbody tr th {\n        vertical-align: top;\n    }\n\n    .dataframe thead th {\n        text-align: right;\n    }\n</style>\n<table border=\"1\" class=\"dataframe\">\n  <thead>\n    <tr style=\"text-align: right;\">\n      <th></th>\n      <th>P1</th>\n      <th>V1</th>\n      <th>P2</th>\n      <th>V2</th>\n      <th>P3</th>\n      <th>V3</th>\n      <th>P4</th>\n      <th>V4</th>\n      <th>P5</th>\n      <th>V5</th>\n      <th>Mano</th>\n    </tr>\n  </thead>\n  <tbody>\n    <tr>\n      <th>0</th>\n      <td>1</td>\n      <td>1</td>\n      <td>1</td>\n      <td>13</td>\n      <td>2</td>\n      <td>4</td>\n      <td>2</td>\n      <td>3</td>\n      <td>1</td>\n      <td>12</td>\n      <td>0</td>\n    </tr>\n    <tr>\n      <th>1</th>\n      <td>3</td>\n      <td>12</td>\n      <td>3</td>\n      <td>2</td>\n      <td>3</td>\n      <td>11</td>\n      <td>4</td>\n      <td>5</td>\n      <td>2</td>\n      <td>5</td>\n      <td>1</td>\n    </tr>\n    <tr>\n      <th>2</th>\n      <td>1</td>\n      <td>9</td>\n      <td>4</td>\n      <td>6</td>\n      <td>1</td>\n      <td>4</td>\n      <td>3</td>\n      <td>2</td>\n      <td>3</td>\n      <td>9</td>\n      <td>1</td>\n    </tr>\n    <tr>\n      <th>3</th>\n      <td>1</td>\n      <td>4</td>\n      <td>3</td>\n      <td>13</td>\n      <td>2</td>\n      <td>13</td>\n      <td>2</td>\n      <td>1</td>\n      <td>3</td>\n      <td>6</td>\n      <td>1</td>\n    </tr>\n    <tr>\n      <th>4</th>\n      <td>3</td>\n      <td>10</td>\n      <td>2</td>\n      <td>7</td>\n      <td>1</td>\n      <td>2</td>\n      <td>2</td>\n      <td>11</td>\n      <td>4</td>\n      <td>9</td>\n      <td>0</td>\n    </tr>\n  </tbody>\n</table>\n</div>"
     },
     "execution_count": 5,
     "metadata": {},
     "output_type": "execute_result"
    }
   ],
   "source": [
    "import pandas as pd\n",
    "from sklearn.metrics import accuracy_score, classification_report, confusion_matrix\n",
    "from sklearn.model_selection import train_test_split, GridSearchCV\n",
    "from sklearn.naive_bayes import GaussianNB\n",
    "\n",
    "df = pd.read_csv('../data/poker-hand-tiny.csv')\n",
    "\n",
    "df.head()"
   ],
   "metadata": {
    "collapsed": false,
    "pycharm": {
     "name": "#%%\n"
    }
   }
  },
  {
   "cell_type": "code",
   "execution_count": 6,
   "outputs": [
    {
     "name": "stderr",
     "output_type": "stream",
     "text": [
      "/home/juan/code/manos-poker/venv/lib/python3.8/site-packages/sklearn/model_selection/_split.py:670: UserWarning: The least populated class in y has only 2 members, which is less than n_splits=3.\n",
      "  warnings.warn((\"The least populated class in y has only %d\"\n",
      "/home/juan/code/manos-poker/venv/lib/python3.8/site-packages/sklearn/metrics/_classification.py:1221: UndefinedMetricWarning: Precision and F-score are ill-defined and being set to 0.0 in labels with no predicted samples. Use `zero_division` parameter to control this behavior.\n",
      "  _warn_prf(average, modifier, msg_start, len(result))\n",
      "/home/juan/code/manos-poker/venv/lib/python3.8/site-packages/sklearn/metrics/_classification.py:1221: UndefinedMetricWarning: Recall and F-score are ill-defined and being set to 0.0 in labels with no true samples. Use `zero_division` parameter to control this behavior.\n",
      "  _warn_prf(average, modifier, msg_start, len(result))\n"
     ]
    },
    {
     "name": "stdout",
     "output_type": "stream",
     "text": [
      "Accuracy train/validation:  0.49929259259259257\n",
      "Accuracy test:  0.5032\n",
      "              precision    recall  f1-score   support\n",
      "\n",
      "           0       0.51      0.99      0.67     15183\n",
      "           1       0.00      0.00      0.00     12583\n",
      "           2       0.00      0.00      0.00      1364\n",
      "           3       0.00      0.00      0.00       619\n",
      "           4       0.00      0.00      0.00       129\n",
      "           5       0.00      0.00      0.00        61\n",
      "           6       0.00      0.00      0.00        54\n",
      "           7       0.00      0.00      0.00         6\n",
      "           8       0.00      0.00      0.00         1\n",
      "           9       0.00      0.00      0.00         0\n",
      "\n",
      "    accuracy                           0.50     30000\n",
      "   macro avg       0.05      0.10      0.07     30000\n",
      "weighted avg       0.26      0.50      0.34     30000\n",
      "\n",
      "[[15096     0     0     0     0     0     0     0     0    87]\n",
      " [12453     0     0     0     0     0     0     0     0   130]\n",
      " [ 1338     0     0     0     0     0     0     0     0    26]\n",
      " [  605     0     0     0     0     0     0     0     0    14]\n",
      " [  127     0     0     0     0     0     0     0     0     2]\n",
      " [   61     0     0     0     0     0     0     0     0     0]\n",
      " [   50     0     0     0     0     0     0     0     0     4]\n",
      " [    5     0     0     0     0     0     0     0     0     1]\n",
      " [    1     0     0     0     0     0     0     0     0     0]\n",
      " [    0     0     0     0     0     0     0     0     0     0]]\n"
     ]
    }
   ],
   "source": [
    "X = df.iloc[:, 0:10].values\n",
    "y = df.iloc[:, 10].values\n",
    "\n",
    "X_train, X_test, y_train, y_test = train_test_split(X, y, test_size=0.1, random_state=0)\n",
    "\n",
    "classifier = GaussianNB()\n",
    "\n",
    "grid_param = {\n",
    "    # 'priors': [0.5010186000000002, 0.422569, 0.047935, 0.021128, 0.003925, 0.001965, 0.001441, 0.0000024, 0.000014, 0.000002]\n",
    "}\n",
    "\n",
    "gd_sr = GridSearchCV(estimator=classifier,\n",
    "                     param_grid=grid_param,\n",
    "                     scoring='accuracy',\n",
    "                     cv=3,\n",
    "                     n_jobs=-1)\n",
    "\n",
    "gd_sr.fit(X_train, y_train)\n",
    "\n",
    "best_result = gd_sr.best_score_\n",
    "print('Accuracy train/validation: ',best_result)\n",
    "\n",
    "prediction=gd_sr.predict(X_test)\n",
    "\n",
    "acc = accuracy_score(y_test, prediction)\n",
    "print('Accuracy test: ', str(acc))\n",
    "\n",
    "print(classification_report(y_test, prediction))\n",
    "print(confusion_matrix(y_test, prediction))"
   ],
   "metadata": {
    "collapsed": false,
    "pycharm": {
     "name": "#%%\n"
    }
   }
  }
 ],
 "metadata": {
  "kernelspec": {
   "display_name": "Python 3",
   "language": "python",
   "name": "python3"
  },
  "language_info": {
   "codemirror_mode": {
    "name": "ipython",
    "version": 2
   },
   "file_extension": ".py",
   "mimetype": "text/x-python",
   "name": "python",
   "nbconvert_exporter": "python",
   "pygments_lexer": "ipython2",
   "version": "2.7.6"
  }
 },
 "nbformat": 4,
 "nbformat_minor": 0
}