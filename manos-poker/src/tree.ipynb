{
 "cells": [
  {
   "cell_type": "code",
   "execution_count": 3,
   "metadata": {
    "collapsed": true
   },
   "outputs": [],
   "source": []
  },
  {
   "cell_type": "code",
   "execution_count": 4,
   "outputs": [
    {
     "data": {
      "text/plain": "   P1  V1  P2  V2  P3  V3  P4  V4  P5  V5  Mano\n0   1   1   1  13   2   4   2   3   1  12     0\n1   3  12   3   2   3  11   4   5   2   5     1\n2   1   9   4   6   1   4   3   2   3   9     1\n3   1   4   3  13   2  13   2   1   3   6     1\n4   3  10   2   7   1   2   2  11   4   9     0",
      "text/html": "<div>\n<style scoped>\n    .dataframe tbody tr th:only-of-type {\n        vertical-align: middle;\n    }\n\n    .dataframe tbody tr th {\n        vertical-align: top;\n    }\n\n    .dataframe thead th {\n        text-align: right;\n    }\n</style>\n<table border=\"1\" class=\"dataframe\">\n  <thead>\n    <tr style=\"text-align: right;\">\n      <th></th>\n      <th>P1</th>\n      <th>V1</th>\n      <th>P2</th>\n      <th>V2</th>\n      <th>P3</th>\n      <th>V3</th>\n      <th>P4</th>\n      <th>V4</th>\n      <th>P5</th>\n      <th>V5</th>\n      <th>Mano</th>\n    </tr>\n  </thead>\n  <tbody>\n    <tr>\n      <th>0</th>\n      <td>1</td>\n      <td>1</td>\n      <td>1</td>\n      <td>13</td>\n      <td>2</td>\n      <td>4</td>\n      <td>2</td>\n      <td>3</td>\n      <td>1</td>\n      <td>12</td>\n      <td>0</td>\n    </tr>\n    <tr>\n      <th>1</th>\n      <td>3</td>\n      <td>12</td>\n      <td>3</td>\n      <td>2</td>\n      <td>3</td>\n      <td>11</td>\n      <td>4</td>\n      <td>5</td>\n      <td>2</td>\n      <td>5</td>\n      <td>1</td>\n    </tr>\n    <tr>\n      <th>2</th>\n      <td>1</td>\n      <td>9</td>\n      <td>4</td>\n      <td>6</td>\n      <td>1</td>\n      <td>4</td>\n      <td>3</td>\n      <td>2</td>\n      <td>3</td>\n      <td>9</td>\n      <td>1</td>\n    </tr>\n    <tr>\n      <th>3</th>\n      <td>1</td>\n      <td>4</td>\n      <td>3</td>\n      <td>13</td>\n      <td>2</td>\n      <td>13</td>\n      <td>2</td>\n      <td>1</td>\n      <td>3</td>\n      <td>6</td>\n      <td>1</td>\n    </tr>\n    <tr>\n      <th>4</th>\n      <td>3</td>\n      <td>10</td>\n      <td>2</td>\n      <td>7</td>\n      <td>1</td>\n      <td>2</td>\n      <td>2</td>\n      <td>11</td>\n      <td>4</td>\n      <td>9</td>\n      <td>0</td>\n    </tr>\n  </tbody>\n</table>\n</div>"
     },
     "execution_count": 4,
     "metadata": {},
     "output_type": "execute_result"
    }
   ],
   "source": [
    "import pandas as pd\n",
    "from sklearn.metrics import accuracy_score, classification_report, confusion_matrix\n",
    "from sklearn.model_selection import train_test_split, GridSearchCV\n",
    "from sklearn.tree import DecisionTreeClassifier\n",
    "\n",
    "df = pd.read_csv('../data/poker-hand-tiny.csv')\n",
    "\n",
    "df.head()"
   ],
   "metadata": {
    "collapsed": false,
    "pycharm": {
     "name": "#%%\n"
    }
   }
  },
  {
   "cell_type": "code",
   "execution_count": 5,
   "outputs": [],
   "source": [
    "X = df.iloc[:, 0:10].values\n",
    "y = df.iloc[:, 10].values\n",
    "\n",
    "X_train, X_test, y_train, y_test = train_test_split(X, y, test_size=0.1, random_state=0)\n",
    "\n",
    "classifier = DecisionTreeClassifier(random_state=42)"
   ],
   "metadata": {
    "collapsed": false,
    "pycharm": {
     "name": "#%%\n"
    }
   }
  },
  {
   "cell_type": "code",
   "execution_count": 6,
   "outputs": [
    {
     "name": "stderr",
     "output_type": "stream",
     "text": [
      "/home/juan/code/manos-poker/venv/lib/python3.8/site-packages/sklearn/model_selection/_split.py:670: UserWarning: The least populated class in y has only 2 members, which is less than n_splits=10.\n",
      "  warnings.warn((\"The least populated class in y has only %d\"\n",
      "/home/juan/code/manos-poker/venv/lib/python3.8/site-packages/sklearn/metrics/_classification.py:1221: UndefinedMetricWarning: Precision and F-score are ill-defined and being set to 0.0 in labels with no predicted samples. Use `zero_division` parameter to control this behavior.\n",
      "  _warn_prf(average, modifier, msg_start, len(result))\n"
     ]
    },
    {
     "name": "stdout",
     "output_type": "stream",
     "text": [
      "{'criterion': 'entropy', 'max_depth': 17, 'splitter': 'random'}\n",
      "Accuracy train/validation:  0.6541296296296297\n",
      "Accuracy test: 0.6587\n",
      "\n",
      "              precision    recall  f1-score   support\n",
      "\n",
      "           0       0.71      0.79      0.74     15183\n",
      "           1       0.62      0.59      0.60     12583\n",
      "           2       0.31      0.16      0.22      1364\n",
      "           3       0.52      0.23      0.32       619\n",
      "           4       0.29      0.05      0.09       129\n",
      "           5       0.06      0.03      0.04        61\n",
      "           6       0.36      0.07      0.12        54\n",
      "           7       0.00      0.00      0.00         6\n",
      "           8       0.00      0.00      0.00         1\n",
      "\n",
      "    accuracy                           0.66     30000\n",
      "   macro avg       0.32      0.21      0.24     30000\n",
      "weighted avg       0.64      0.66      0.65     30000\n",
      "\n",
      "[[11933  3161    40    20     5    24     0     0     0]\n",
      " [ 4630  7448   406    79    11     5     2     2     0]\n",
      " [  177   942   224    20     0     0     1     0     0]\n",
      " [   91   356    26   143     0     0     3     0     0]\n",
      " [   15   105     2     0     7     0     0     0     0]\n",
      " [   44    13     1     0     1     2     0     0     0]\n",
      " [    0    25    12    13     0     0     4     0     0]\n",
      " [    0     4     1     0     0     0     1     0     0]\n",
      " [    0     1     0     0     0     0     0     0     0]]\n"
     ]
    }
   ],
   "source": [
    "grid_param = {\n",
    "    'criterion': ['gini', 'entropy'],\n",
    "    'splitter': ['best', 'random'],\n",
    "    'max_depth': [15,17,20]\n",
    "}\n",
    "\n",
    "gd_sr = GridSearchCV(estimator=classifier,\n",
    "                     param_grid=grid_param,\n",
    "                     scoring='accuracy',\n",
    "                     cv=3,\n",
    "                     n_jobs=-1)\n",
    "\n",
    "gd_sr.fit(X_train, y_train)\n",
    "\n",
    "best_parameters = gd_sr.best_params_\n",
    "#gd_sr.cv_results_\n",
    "print(best_parameters)\n",
    "\n",
    "best_result = gd_sr.best_score_\n",
    "print('Accuracy train/validation: ', best_result)\n",
    "\n",
    "prediction=gd_sr.predict(X_test)\n",
    "\n",
    "acc = accuracy_score(y_test, prediction)\n",
    "print(\"Accuracy test: \" + str(acc) + '\\n')\n",
    "print(classification_report(y_test, prediction))\n",
    "print(confusion_matrix(y_test, prediction))\n"
   ],
   "metadata": {
    "collapsed": false,
    "pycharm": {
     "name": "#%%\n"
    }
   }
  }
 ],
 "metadata": {
  "kernelspec": {
   "display_name": "Python 3",
   "language": "python",
   "name": "python3"
  },
  "language_info": {
   "codemirror_mode": {
    "name": "ipython",
    "version": 2
   },
   "file_extension": ".py",
   "mimetype": "text/x-python",
   "name": "python",
   "nbconvert_exporter": "python",
   "pygments_lexer": "ipython2",
   "version": "2.7.6"
  }
 },
 "nbformat": 4,
 "nbformat_minor": 0
}