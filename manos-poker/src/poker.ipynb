{
 "cells": [
  {
   "cell_type": "code",
   "execution_count": 367,
   "outputs": [],
   "source": [
    "import dataset as dataset\n",
    "from imblearn.over_sampling import SMOTE\n",
    "import pandas as pd\n",
    "from sklearn.metrics import accuracy_score, classification_report, confusion_matrix\n",
    "from sklearn.naive_bayes import GaussianNB\n",
    "from sklearn.preprocessing import StandardScaler\n",
    "from sklearn.tree import tree"
   ],
   "metadata": {
    "collapsed": false,
    "pycharm": {
     "name": "#%%\n"
    }
   }
  },
  {
   "cell_type": "code",
   "execution_count": 368,
   "outputs": [
    {
     "name": "stdout",
     "output_type": "stream",
     "text": [
      "        P1  V1  P2  V2  P3  V3  P4  V4  P5  V5  Mano\n",
      "0        1   1   1  13   2   4   2   3   1  12     0\n",
      "1        3  12   3   2   3  11   4   5   2   5     1\n",
      "2        1   9   4   6   1   4   3   2   3   9     1\n",
      "3        1   4   3  13   2  13   2   1   3   6     1\n",
      "4        3  10   2   7   1   2   2  11   4   9     0\n",
      "...     ..  ..  ..  ..  ..  ..  ..  ..  ..  ..   ...\n",
      "299995   2  13   4  11   3   4   4   4   2   4     3\n",
      "299996   3   5   4  12   2   8   4   8   2  13     1\n",
      "299997   1  10   1   5   1   4   4   9   3  13     0\n",
      "299998   2   6   3   4   2   3   4   2   2  13     0\n",
      "299999   4   6   4   1   3   4   1   8   4  11     0\n",
      "\n",
      "[299994 rows x 11 columns]\n"
     ]
    }
   ],
   "source": [
    "df = pd.read_csv('../data/poker-hand-tiny.csv')\n",
    "df = df[df.Mano != 9]\n",
    "df = df[df.Mano != 8]\n",
    "# df = df[df.Mano != 7]\n",
    "# df = df[df.Mano != 6]\n",
    "# df = df[df.Mano != 5]\n",
    "print(df)"
   ],
   "metadata": {
    "collapsed": false,
    "pycharm": {
     "name": "#%%\n"
    }
   }
  },
  {
   "cell_type": "code",
   "execution_count": 369,
   "outputs": [
    {
     "name": "stdout",
     "output_type": "stream",
     "text": [
      "        P1  V1  P2  V2  P3  V3  P4  V4  P5  V5  Mano\n",
      "0        1   1   1  13   2   4   2   3   1  12     0\n",
      "1        3  12   3   2   3  11   4   5   2   5     1\n",
      "2        1   9   4   6   1   4   3   2   3   9     1\n",
      "3        1   4   3  13   2  13   2   1   3   6     1\n",
      "4        3  10   2   7   1   2   2  11   4   9     0\n",
      "...     ..  ..  ..  ..  ..  ..  ..  ..  ..  ..   ...\n",
      "209994   2   7   4   7   3  12   3   5   4   6     1\n",
      "209995   4  10   4   7   4   8   3   2   1   4     0\n",
      "209996   4  12   3  13   2   1   4  13   1   1     2\n",
      "209997   4   6   3  12   2   4   4   1   2   9     0\n",
      "209998   1   6   3   7   2   3   3  12   2   1     0\n",
      "\n",
      "[209995 rows x 11 columns]\n",
      "        P1  V1  P2  V2  P3  V3  P4  V4  P5  V5  Mano\n",
      "209999   2   1   4   7   1   8   3   4   2   8     1\n",
      "210000   4   3   1   3   3  11   3   1   2   1     2\n",
      "210001   2   7   4  12   4  11   2  12   1   8     1\n",
      "210002   3   1   4   8   3   2   2   8   2   1     2\n",
      "210003   4   5   4  12   1   3   1   5   3  11     1\n",
      "...     ..  ..  ..  ..  ..  ..  ..  ..  ..  ..   ...\n",
      "299995   2  13   4  11   3   4   4   4   2   4     3\n",
      "299996   3   5   4  12   2   8   4   8   2  13     1\n",
      "299997   1  10   1   5   1   4   4   9   3  13     0\n",
      "299998   2   6   3   4   2   3   4   2   2  13     0\n",
      "299999   4   6   4   1   3   4   1   8   4  11     0\n",
      "\n",
      "[89999 rows x 11 columns]\n"
     ]
    }
   ],
   "source": [
    "# % for train % for test\n",
    "numTrain = int(0.9*len(df.index))\n",
    "# splitting dataframe by row index\n",
    "data_train = df.iloc[:numTrain,:]\n",
    "data_test = df.iloc[numTrain:,:]\n",
    "print(data_train)\n",
    "print(data_test)"
   ],
   "metadata": {
    "collapsed": false,
    "pycharm": {
     "name": "#%%\n"
    }
   }
  },
  {
   "cell_type": "code",
   "execution_count": 370,
   "outputs": [
    {
     "name": "stdout",
     "output_type": "stream",
     "text": [
      "Mano\n",
      "0    105337\n",
      "1     88707\n",
      "2     10056\n",
      "3      4342\n",
      "4       796\n",
      "5       407\n",
      "6       306\n",
      "7        44\n",
      "dtype: int64\n",
      "Mano\n",
      "0    44952\n",
      "1    38126\n",
      "2     4339\n",
      "3     1896\n",
      "4      360\n",
      "5      191\n",
      "6      117\n",
      "7       18\n",
      "dtype: int64\n"
     ]
    }
   ],
   "source": [
    "print(data_train.groupby('Mano').size())\n",
    "print(data_test.groupby('Mano').size())"
   ],
   "metadata": {
    "collapsed": false,
    "pycharm": {
     "name": "#%%\n"
    }
   }
  },
  {
   "cell_type": "code",
   "execution_count": 371,
   "outputs": [],
   "source": [
    "# # SMOTE\n",
    "# X = data_train.loc[:, data_train.columns != 'Mano']\n",
    "# y = data_train.Mano\n",
    "# X_res, y_res = SMOTE().fit_resample(X, y)\n",
    "# data_train = pd.concat([pd.DataFrame(X_res), pd.DataFrame(y_res)], axis=1)\n",
    "# print(data_train)\n",
    "\n"
   ],
   "metadata": {
    "collapsed": false,
    "pycharm": {
     "name": "#%%\n"
    }
   }
  },
  {
   "cell_type": "code",
   "execution_count": 372,
   "outputs": [
    {
     "name": "stdout",
     "output_type": "stream",
     "text": [
      "[[ 1  1  1 ...  1 12  0]\n",
      " [ 3 12  3 ...  2  5  1]\n",
      " [ 1  9  4 ...  3  9  1]\n",
      " ...\n",
      " [ 4 12  3 ...  1  1  2]\n",
      " [ 4  6  3 ...  2  9  0]\n",
      " [ 1  6  3 ...  2  1  0]]\n",
      "[[ 1  1  1 ...  3  1 12]\n",
      " [ 3 12  3 ...  5  2  5]\n",
      " [ 1  9  4 ...  2  3  9]\n",
      " ...\n",
      " [ 4 12  3 ... 13  1  1]\n",
      " [ 4  6  3 ...  1  2  9]\n",
      " [ 1  6  3 ... 12  2  1]]\n",
      "[0 1 1 ... 2 0 0]\n",
      "[[ 2  1  4 ...  2  8  1]\n",
      " [ 4  3  1 ...  2  1  2]\n",
      " [ 2  7  4 ...  1  8  1]\n",
      " ...\n",
      " [ 1 10  1 ...  3 13  0]\n",
      " [ 2  6  3 ...  2 13  0]\n",
      " [ 4  6  4 ...  4 11  0]]\n",
      "[[ 2  1  4 ...  4  2  8]\n",
      " [ 4  3  1 ...  1  2  1]\n",
      " [ 2  7  4 ... 12  1  8]\n",
      " ...\n",
      " [ 1 10  1 ...  9  3 13]\n",
      " [ 2  6  3 ...  2  2 13]\n",
      " [ 4  6  4 ...  8  4 11]]\n",
      "[1 2 1 ... 0 0 0]\n"
     ]
    }
   ],
   "source": [
    "# Ready the Train Data\n",
    "array_train = data_train.values\n",
    "data_train = array_train[:, 0:10]\n",
    "label_train = array_train[:, 10]\n",
    "print(array_train)\n",
    "print(data_train)\n",
    "print(label_train)\n",
    "\n",
    "# Ready the Test Data\n",
    "array_test = data_test.values\n",
    "data_test = array_test[:, 0:10]\n",
    "label_test = array_test[:, 10]\n",
    "print(array_test)\n",
    "print(data_test)\n",
    "print(label_test)"
   ],
   "metadata": {
    "collapsed": false,
    "pycharm": {
     "name": "#%%\n"
    }
   }
  },
  {
   "cell_type": "code",
   "execution_count": 373,
   "outputs": [],
   "source": [
    "# print(data_train)\n",
    "# print(label_train)\n",
    "# tree.plot_tree(tree.DecisionTreeClassifier().fit(data_train, label_train))"
   ],
   "metadata": {
    "collapsed": false,
    "pycharm": {
     "name": "#%%\n"
    }
   }
  },
  {
   "cell_type": "code",
   "execution_count": 374,
   "outputs": [],
   "source": [
    "# scaler = StandardScaler()\n",
    "# # Fit only to the training data\n",
    "# scaler.fit(data_train)\n",
    "# # Transform the training and testing data\n",
    "# data_train = scaler.transform(data_train)\n",
    "# data_test = scaler.transform(data_test)\n",
    "# print(data_train)\n",
    "# print(data_test)"
   ],
   "metadata": {
    "collapsed": false,
    "pycharm": {
     "name": "#%%\n"
    }
   }
  },
  {
   "cell_type": "code",
   "execution_count": 375,
   "outputs": [],
   "source": [
    "models = [GaussianNB(), tree.DecisionTreeClassifier()]\n",
    "model_names = [ \"Naive Bayes\", \"Decision Tree\"]"
   ],
   "metadata": {
    "collapsed": false,
    "pycharm": {
     "name": "#%%\n"
    }
   }
  },
  {
   "cell_type": "code",
   "execution_count": 376,
   "outputs": [
    {
     "name": "stdout",
     "output_type": "stream",
     "text": [
      "[[ 2  1  4 ...  4  2  8]\n",
      " [ 4  3  1 ...  1  2  1]\n",
      " [ 2  7  4 ... 12  1  8]\n",
      " ...\n",
      " [ 1 10  1 ...  9  3 13]\n",
      " [ 2  6  3 ...  2  2 13]\n",
      " [ 4  6  4 ...  8  4 11]]\n",
      "Accuracy Using Naive Bayes : 0.4994722163579595\n",
      "\n",
      "              precision    recall  f1-score   support\n",
      "\n",
      "           0       0.50      1.00      0.67     44952\n",
      "           1       0.00      0.00      0.00     38126\n",
      "           2       0.00      0.00      0.00      4339\n",
      "           3       0.00      0.00      0.00      1896\n",
      "           4       0.00      0.00      0.00       360\n",
      "           5       0.00      0.00      0.00       191\n",
      "           6       0.00      0.00      0.00       117\n",
      "           7       0.00      0.00      0.00        18\n",
      "\n",
      "    accuracy                           0.50     89999\n",
      "   macro avg       0.06      0.12      0.08     89999\n",
      "weighted avg       0.25      0.50      0.33     89999\n",
      "\n",
      "[[44952     0     0     0     0     0     0     0]\n",
      " [38126     0     0     0     0     0     0     0]\n",
      " [ 4339     0     0     0     0     0     0     0]\n",
      " [ 1896     0     0     0     0     0     0     0]\n",
      " [  360     0     0     0     0     0     0     0]\n",
      " [  191     0     0     0     0     0     0     0]\n",
      " [  117     0     0     0     0     0     0     0]\n",
      " [   18     0     0     0     0     0     0     0]]\n",
      "[[ 2  1  4 ...  4  2  8]\n",
      " [ 4  3  1 ...  1  2  1]\n",
      " [ 2  7  4 ... 12  1  8]\n",
      " ...\n",
      " [ 1 10  1 ...  9  3 13]\n",
      " [ 2  6  3 ...  2  2 13]\n",
      " [ 4  6  4 ...  8  4 11]]\n",
      "Accuracy Using Decision Tree : 0.5939510439004878\n",
      "\n",
      "              precision    recall  f1-score   support\n",
      "\n",
      "           0       0.69      0.68      0.68     44952\n",
      "           1       0.56      0.56      0.56     38126\n",
      "           2       0.22      0.25      0.23      4339\n",
      "           3       0.28      0.32      0.30      1896\n",
      "           4       0.16      0.17      0.16       360\n",
      "           5       0.04      0.06      0.05       191\n",
      "           6       0.06      0.08      0.07       117\n",
      "           7       0.00      0.00      0.00        18\n",
      "\n",
      "    accuracy                           0.59     89999\n",
      "   macro avg       0.25      0.26      0.26     89999\n",
      "weighted avg       0.60      0.59      0.60     89999\n",
      "\n",
      "[[30430 13166   808   290    76   177     5     0]\n",
      " [12660 21272  2799  1076   192    69    52     6]\n",
      " [  601  2407  1065   172    41     3    42     8]\n",
      " [  191   868   158   608    14     1    42    14]\n",
      " [   56   186    38    19    60     1     0     0]\n",
      " [  130    48     0     1     1    11     0     0]\n",
      " [    6    39    29    31     1     0     9     2]\n",
      " [    0     3     7     7     0     0     1     0]]\n"
     ]
    },
    {
     "name": "stderr",
     "output_type": "stream",
     "text": [
      "/home/juan/code/manos-poker/venv/lib/python3.8/site-packages/sklearn/metrics/_classification.py:1221: UndefinedMetricWarning: Precision and F-score are ill-defined and being set to 0.0 in labels with no predicted samples. Use `zero_division` parameter to control this behavior.\n",
      "  _warn_prf(average, modifier, msg_start, len(result))\n"
     ]
    }
   ],
   "source": [
    "# ----------------------------------------------------------------\n",
    "# Run Each Model\n",
    "# ----------------------------------------------------------------\n",
    "for model, name in zip(models, model_names):\n",
    "    model.fit(data_train, label_train)\n",
    "    # Predict\n",
    "    print(data_test)\n",
    "    prediction = model.predict(data_test)\n",
    "    # Print Accuracy\n",
    "    acc = accuracy_score(label_test, prediction)\n",
    "    print(\"Accuracy Using\", name, \": \" + str(acc) + '\\n')\n",
    "    print(classification_report(label_test, prediction))\n",
    "    print(confusion_matrix(label_test, prediction))\n"
   ],
   "metadata": {
    "collapsed": false,
    "pycharm": {
     "name": "#%%\n"
    }
   }
  }
 ],
 "metadata": {
  "kernelspec": {
   "name": "python3",
   "language": "python",
   "display_name": "Python 3"
  },
  "language_info": {
   "codemirror_mode": {
    "name": "ipython",
    "version": 2
   },
   "file_extension": ".py",
   "mimetype": "text/x-python",
   "name": "python",
   "nbconvert_exporter": "python",
   "pygments_lexer": "ipython2",
   "version": "2.7.6"
  }
 },
 "nbformat": 4,
 "nbformat_minor": 0
}