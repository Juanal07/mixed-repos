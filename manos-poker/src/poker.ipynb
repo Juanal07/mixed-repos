{
 "cells": [
  {
   "cell_type": "code",
   "execution_count": 21,
   "outputs": [],
   "source": [
    "import dataset as dataset\n",
    "from imblearn.over_sampling import SMOTE\n",
    "import pandas as pd\n",
    "from sklearn.metrics import accuracy_score, classification_report, confusion_matrix\n",
    "from sklearn.naive_bayes import GaussianNB\n",
    "from sklearn.preprocessing import StandardScaler\n",
    "from sklearn.tree import tree"
   ],
   "metadata": {
    "collapsed": false,
    "pycharm": {
     "name": "#%%\n"
    }
   }
  },
  {
   "cell_type": "code",
   "execution_count": 22,
   "outputs": [
    {
     "name": "stdout",
     "output_type": "stream",
     "text": [
      "        P1  V1  P2  V2  P3  V3  P4  V4  P5  V5  Mano\n",
      "0        1   1   1  13   2   4   2   3   1  12     0\n",
      "1        3  12   3   2   3  11   4   5   2   5     1\n",
      "2        1   9   4   6   1   4   3   2   3   9     1\n",
      "3        1   4   3  13   2  13   2   1   3   6     1\n",
      "4        3  10   2   7   1   2   2  11   4   9     0\n",
      "...     ..  ..  ..  ..  ..  ..  ..  ..  ..  ..   ...\n",
      "299995   2  13   4  11   3   4   4   4   2   4     3\n",
      "299996   3   5   4  12   2   8   4   8   2  13     1\n",
      "299997   1  10   1   5   1   4   4   9   3  13     0\n",
      "299998   2   6   3   4   2   3   4   2   2  13     0\n",
      "299999   4   6   4   1   3   4   1   8   4  11     0\n",
      "\n",
      "[299994 rows x 11 columns]\n"
     ]
    }
   ],
   "source": [
    "df = pd.read_csv('../data/poker-hand-tiny.csv')\n",
    "df = df[df.Mano != 9]\n",
    "df = df[df.Mano != 8]\n",
    "# df = df[df.Mano != 7]\n",
    "# df = df[df.Mano != 6]\n",
    "# df = df[df.Mano != 5]\n",
    "print(df)"
   ],
   "metadata": {
    "collapsed": false,
    "pycharm": {
     "name": "#%%\n"
    }
   }
  },
  {
   "cell_type": "code",
   "execution_count": 23,
   "outputs": [
    {
     "name": "stdout",
     "output_type": "stream",
     "text": [
      "        P1  V1  P2  V2  P3  V3  P4  V4  P5  V5  Mano\n",
      "0        1   1   1  13   2   4   2   3   1  12     0\n",
      "1        3  12   3   2   3  11   4   5   2   5     1\n",
      "2        1   9   4   6   1   4   3   2   3   9     1\n",
      "3        1   4   3  13   2  13   2   1   3   6     1\n",
      "4        3  10   2   7   1   2   2  11   4   9     0\n",
      "...     ..  ..  ..  ..  ..  ..  ..  ..  ..  ..   ...\n",
      "269993   1   1   2   1   3   1   3   3   3  10     3\n",
      "269994   3   5   2   9   3   6   4   7   4   9     1\n",
      "269995   3  10   3   5   1   3   1   9   4   1     0\n",
      "269996   4   5   4   6   4  13   4   3   1   5     1\n",
      "269997   3   3   1  12   3   5   2  12   2   3     2\n",
      "\n",
      "[269994 rows x 11 columns]\n",
      "        P1  V1  P2  V2  P3  V3  P4  V4  P5  V5  Mano\n",
      "269998   4   3   2   2   4   4   1  10   4   7     0\n",
      "269999   3   1   3  12   4  13   4   6   2  13     1\n",
      "270000   1  11   4  10   4   8   3  13   2   6     0\n",
      "270001   1   1   2  10   2   7   4   2   4   5     0\n",
      "270002   2  13   4  12   3   7   2   4   4   3     0\n",
      "...     ..  ..  ..  ..  ..  ..  ..  ..  ..  ..   ...\n",
      "299995   2  13   4  11   3   4   4   4   2   4     3\n",
      "299996   3   5   4  12   2   8   4   8   2  13     1\n",
      "299997   1  10   1   5   1   4   4   9   3  13     0\n",
      "299998   2   6   3   4   2   3   4   2   2  13     0\n",
      "299999   4   6   4   1   3   4   1   8   4  11     0\n",
      "\n",
      "[30000 rows x 11 columns]\n"
     ]
    }
   ],
   "source": [
    "# % for train % for test\n",
    "numTrain = int(0.9*len(df.index))\n",
    "# splitting dataframe by row index\n",
    "data_train = df.iloc[:numTrain,:]\n",
    "data_test = df.iloc[numTrain:,:]\n",
    "print(data_train)\n",
    "print(data_test)"
   ],
   "metadata": {
    "collapsed": false,
    "pycharm": {
     "name": "#%%\n"
    }
   }
  },
  {
   "cell_type": "code",
   "execution_count": 24,
   "outputs": [
    {
     "name": "stdout",
     "output_type": "stream",
     "text": [
      "Mano\n",
      "0    135455\n",
      "1    113988\n",
      "2     12932\n",
      "3      5608\n",
      "4      1041\n",
      "5       534\n",
      "6       382\n",
      "7        54\n",
      "dtype: int64\n",
      "Mano\n",
      "0    14834\n",
      "1    12845\n",
      "2     1463\n",
      "3      630\n",
      "4      115\n",
      "5       64\n",
      "6       41\n",
      "7        8\n",
      "dtype: int64\n"
     ]
    }
   ],
   "source": [
    "print(data_train.groupby('Mano').size())\n",
    "print(data_test.groupby('Mano').size())"
   ],
   "metadata": {
    "collapsed": false,
    "pycharm": {
     "name": "#%%\n"
    }
   }
  },
  {
   "cell_type": "code",
   "execution_count": 25,
   "outputs": [],
   "source": [
    "# # SMOTE\n",
    "# X = data_train.loc[:, data_train.columns != 'Mano']\n",
    "# y = data_train.Mano\n",
    "# X_res, y_res = SMOTE().fit_resample(X, y)\n",
    "# data_train = pd.concat([pd.DataFrame(X_res), pd.DataFrame(y_res)], axis=1)\n",
    "# print(data_train)\n",
    "\n"
   ],
   "metadata": {
    "collapsed": false,
    "pycharm": {
     "name": "#%%\n"
    }
   }
  },
  {
   "cell_type": "code",
   "execution_count": 26,
   "outputs": [
    {
     "name": "stdout",
     "output_type": "stream",
     "text": [
      "[[ 1  1  1 ...  1 12  0]\n",
      " [ 3 12  3 ...  2  5  1]\n",
      " [ 1  9  4 ...  3  9  1]\n",
      " ...\n",
      " [ 3 10  3 ...  4  1  0]\n",
      " [ 4  5  4 ...  1  5  1]\n",
      " [ 3  3  1 ...  2  3  2]]\n",
      "[[ 1  1  1 ...  3  1 12]\n",
      " [ 3 12  3 ...  5  2  5]\n",
      " [ 1  9  4 ...  2  3  9]\n",
      " ...\n",
      " [ 3 10  3 ...  9  4  1]\n",
      " [ 4  5  4 ...  3  1  5]\n",
      " [ 3  3  1 ... 12  2  3]]\n",
      "[0 1 1 ... 0 1 2]\n",
      "[[ 4  3  2 ...  4  7  0]\n",
      " [ 3  1  3 ...  2 13  1]\n",
      " [ 1 11  4 ...  2  6  0]\n",
      " ...\n",
      " [ 1 10  1 ...  3 13  0]\n",
      " [ 2  6  3 ...  2 13  0]\n",
      " [ 4  6  4 ...  4 11  0]]\n",
      "[[ 4  3  2 ... 10  4  7]\n",
      " [ 3  1  3 ...  6  2 13]\n",
      " [ 1 11  4 ... 13  2  6]\n",
      " ...\n",
      " [ 1 10  1 ...  9  3 13]\n",
      " [ 2  6  3 ...  2  2 13]\n",
      " [ 4  6  4 ...  8  4 11]]\n",
      "[0 1 0 ... 0 0 0]\n"
     ]
    }
   ],
   "source": [
    "# Ready the Train Data\n",
    "array_train = data_train.values\n",
    "data_train = array_train[:, 0:10]\n",
    "label_train = array_train[:, 10]\n",
    "print(array_train)\n",
    "print(data_train)\n",
    "print(label_train)\n",
    "\n",
    "# Ready the Test Data\n",
    "array_test = data_test.values\n",
    "data_test = array_test[:, 0:10]\n",
    "label_test = array_test[:, 10]\n",
    "print(array_test)\n",
    "print(data_test)\n",
    "print(label_test)"
   ],
   "metadata": {
    "collapsed": false,
    "pycharm": {
     "name": "#%%\n"
    }
   }
  },
  {
   "cell_type": "code",
   "execution_count": 27,
   "outputs": [],
   "source": [
    "# print(data_train)\n",
    "# print(label_train)\n",
    "# tree.plot_tree(tree.DecisionTreeClassifier().fit(data_train, label_train))"
   ],
   "metadata": {
    "collapsed": false,
    "pycharm": {
     "name": "#%%\n"
    }
   }
  },
  {
   "cell_type": "code",
   "execution_count": 28,
   "outputs": [
    {
     "name": "stdout",
     "output_type": "stream",
     "text": [
      "[[-1.34282304 -1.5998313  -1.34067583 ... -1.06983923 -1.34170545\n",
      "   1.3393938 ]\n",
      " [ 0.44689619  1.33579863  0.44689194 ... -0.53539667 -0.448272\n",
      "  -0.53198142]\n",
      " [-1.34282304  0.53517229  1.34067583 ... -1.33706051  0.44516146\n",
      "   0.53737585]\n",
      " ...\n",
      " [ 0.44689619  0.80204774  0.44689194 ...  0.53348846  1.33859491\n",
      "  -1.60133868]\n",
      " [ 1.34175581 -0.53232951  1.34067583 ... -1.06983923 -1.34170545\n",
      "  -0.53198142]\n",
      " [ 0.44689619 -1.0660804  -1.34067583 ...  1.33515231 -0.448272\n",
      "  -1.06666005]]\n",
      "[[ 1.34175581 -1.0660804  -0.44689194 ...  0.80070975  1.33859491\n",
      "   0.00269722]\n",
      " [ 0.44689619 -1.5998313   0.44689194 ... -0.26817538 -0.448272\n",
      "   1.60673312]\n",
      " [-1.34282304  1.06892318  1.34067583 ...  1.60237359 -0.448272\n",
      "  -0.2646421 ]\n",
      " ...\n",
      " [-1.34282304  0.80204774 -1.34067583 ...  0.53348846  0.44516146\n",
      "   1.60673312]\n",
      " [-0.44796342 -0.26545406  0.44689194 ... -1.33706051 -0.448272\n",
      "   1.60673312]\n",
      " [ 1.34175581 -0.26545406  1.34067583 ...  0.26626718  1.33859491\n",
      "   1.07205448]]\n"
     ]
    }
   ],
   "source": [
    "scaler = StandardScaler()\n",
    "# Fit only to the training data\n",
    "scaler.fit(data_train)\n",
    "# Transform the training and testing data\n",
    "data_train = scaler.transform(data_train)\n",
    "data_test = scaler.transform(data_test)\n",
    "print(data_train)\n",
    "print(data_test)"
   ],
   "metadata": {
    "collapsed": false,
    "pycharm": {
     "name": "#%%\n"
    }
   }
  },
  {
   "cell_type": "code",
   "execution_count": 29,
   "outputs": [],
   "source": [
    "models = [GaussianNB(), tree.DecisionTreeClassifier()]\n",
    "model_names = [ \"Naive Bayes\", \"Decision Tree\"]"
   ],
   "metadata": {
    "collapsed": false,
    "pycharm": {
     "name": "#%%\n"
    }
   }
  },
  {
   "cell_type": "code",
   "execution_count": 30,
   "outputs": [
    {
     "name": "stdout",
     "output_type": "stream",
     "text": [
      "[[ 1.34175581 -1.0660804  -0.44689194 ...  0.80070975  1.33859491\n",
      "   0.00269722]\n",
      " [ 0.44689619 -1.5998313   0.44689194 ... -0.26817538 -0.448272\n",
      "   1.60673312]\n",
      " [-1.34282304  1.06892318  1.34067583 ...  1.60237359 -0.448272\n",
      "  -0.2646421 ]\n",
      " ...\n",
      " [-1.34282304  0.80204774 -1.34067583 ...  0.53348846  0.44516146\n",
      "   1.60673312]\n",
      " [-0.44796342 -0.26545406  0.44689194 ... -1.33706051 -0.448272\n",
      "   1.60673312]\n",
      " [ 1.34175581 -0.26545406  1.34067583 ...  0.26626718  1.33859491\n",
      "   1.07205448]]\n",
      "Accuracy Using Naive Bayes : 0.49446666666666667\n",
      "\n",
      "              precision    recall  f1-score   support\n",
      "\n",
      "           0       0.49      1.00      0.66     14834\n",
      "           1       0.00      0.00      0.00     12845\n",
      "           2       0.00      0.00      0.00      1463\n",
      "           3       0.00      0.00      0.00       630\n",
      "           4       0.00      0.00      0.00       115\n",
      "           5       0.00      0.00      0.00        64\n",
      "           6       0.00      0.00      0.00        41\n",
      "           7       0.00      0.00      0.00         8\n",
      "\n",
      "    accuracy                           0.49     30000\n",
      "   macro avg       0.06      0.12      0.08     30000\n",
      "weighted avg       0.24      0.49      0.33     30000\n",
      "\n",
      "[[14834     0     0     0     0     0     0     0]\n",
      " [12845     0     0     0     0     0     0     0]\n",
      " [ 1463     0     0     0     0     0     0     0]\n",
      " [  630     0     0     0     0     0     0     0]\n",
      " [  115     0     0     0     0     0     0     0]\n",
      " [   64     0     0     0     0     0     0     0]\n",
      " [   41     0     0     0     0     0     0     0]\n",
      " [    8     0     0     0     0     0     0     0]]\n",
      "[[ 1.34175581 -1.0660804  -0.44689194 ...  0.80070975  1.33859491\n",
      "   0.00269722]\n",
      " [ 0.44689619 -1.5998313   0.44689194 ... -0.26817538 -0.448272\n",
      "   1.60673312]\n",
      " [-1.34282304  1.06892318  1.34067583 ...  1.60237359 -0.448272\n",
      "  -0.2646421 ]\n",
      " ...\n",
      " [-1.34282304  0.80204774 -1.34067583 ...  0.53348846  0.44516146\n",
      "   1.60673312]\n",
      " [-0.44796342 -0.26545406  0.44689194 ... -1.33706051 -0.448272\n",
      "   1.60673312]\n",
      " [ 1.34175581 -0.26545406  1.34067583 ...  0.26626718  1.33859491\n",
      "   1.07205448]]\n",
      "Accuracy Using Decision Tree : 0.5962666666666666\n",
      "\n",
      "              precision    recall  f1-score   support\n",
      "\n",
      "           0       0.69      0.67      0.68     14834\n",
      "           1       0.57      0.56      0.57     12845\n",
      "           2       0.23      0.27      0.24      1463\n",
      "           3       0.28      0.33      0.30       630\n",
      "           4       0.12      0.14      0.13       115\n",
      "           5       0.04      0.06      0.05        64\n",
      "           6       0.02      0.02      0.02        41\n",
      "           7       0.00      0.00      0.00         8\n",
      "\n",
      "    accuracy                           0.60     30000\n",
      "   macro avg       0.24      0.26      0.25     30000\n",
      "weighted avg       0.60      0.60      0.60     30000\n",
      "\n",
      "[[10012  4354   276   111    23    58     0     0]\n",
      " [ 4116  7256   984   359    79    29    21     1]\n",
      " [  203   796   391    47    12     0    11     3]\n",
      " [   66   281    56   208     1     0    16     2]\n",
      " [   18    64    11     5    16     0     1     0]\n",
      " [   46    14     0     0     0     4     0     0]\n",
      " [    2    15     8    14     0     0     1     1]\n",
      " [    1     2     3     1     0     0     1     0]]\n"
     ]
    },
    {
     "name": "stderr",
     "output_type": "stream",
     "text": [
      "/home/juan/code/manos-poker/venv/lib/python3.8/site-packages/sklearn/metrics/_classification.py:1221: UndefinedMetricWarning: Precision and F-score are ill-defined and being set to 0.0 in labels with no predicted samples. Use `zero_division` parameter to control this behavior.\n",
      "  _warn_prf(average, modifier, msg_start, len(result))\n"
     ]
    }
   ],
   "source": [
    "# ----------------------------------------------------------------\n",
    "# Run Each Model\n",
    "# ----------------------------------------------------------------\n",
    "for model, name in zip(models, model_names):\n",
    "    model.fit(data_train, label_train)\n",
    "    # Predict\n",
    "    print(data_test)\n",
    "    prediction = model.predict(data_test)\n",
    "    # Print Accuracy\n",
    "    acc = accuracy_score(label_test, prediction)\n",
    "    print(\"Accuracy Using\", name, \": \" + str(acc) + '\\n')\n",
    "    print(classification_report(label_test, prediction))\n",
    "    print(confusion_matrix(label_test, prediction))\n"
   ],
   "metadata": {
    "collapsed": false,
    "pycharm": {
     "name": "#%%\n"
    }
   }
  }
 ],
 "metadata": {
  "kernelspec": {
   "name": "python3",
   "language": "python",
   "display_name": "Python 3"
  },
  "language_info": {
   "codemirror_mode": {
    "name": "ipython",
    "version": 2
   },
   "file_extension": ".py",
   "mimetype": "text/x-python",
   "name": "python",
   "nbconvert_exporter": "python",
   "pygments_lexer": "ipython2",
   "version": "2.7.6"
  }
 },
 "nbformat": 4,
 "nbformat_minor": 0
}