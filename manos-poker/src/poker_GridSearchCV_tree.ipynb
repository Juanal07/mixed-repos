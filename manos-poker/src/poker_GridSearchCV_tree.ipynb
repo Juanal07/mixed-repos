{
 "cells": [
  {
   "cell_type": "code",
   "execution_count": 56,
   "metadata": {
    "collapsed": true
   },
   "outputs": [
    {
     "data": {
      "text/plain": "   P1  V1  P2  V2  P3  V3  P4  V4  P5  V5  Mano\n0   1   1   1  13   2   4   2   3   1  12     0\n1   3  12   3   2   3  11   4   5   2   5     1\n2   1   9   4   6   1   4   3   2   3   9     1\n3   1   4   3  13   2  13   2   1   3   6     1\n4   3  10   2   7   1   2   2  11   4   9     0",
      "text/html": "<div>\n<style scoped>\n    .dataframe tbody tr th:only-of-type {\n        vertical-align: middle;\n    }\n\n    .dataframe tbody tr th {\n        vertical-align: top;\n    }\n\n    .dataframe thead th {\n        text-align: right;\n    }\n</style>\n<table border=\"1\" class=\"dataframe\">\n  <thead>\n    <tr style=\"text-align: right;\">\n      <th></th>\n      <th>P1</th>\n      <th>V1</th>\n      <th>P2</th>\n      <th>V2</th>\n      <th>P3</th>\n      <th>V3</th>\n      <th>P4</th>\n      <th>V4</th>\n      <th>P5</th>\n      <th>V5</th>\n      <th>Mano</th>\n    </tr>\n  </thead>\n  <tbody>\n    <tr>\n      <th>0</th>\n      <td>1</td>\n      <td>1</td>\n      <td>1</td>\n      <td>13</td>\n      <td>2</td>\n      <td>4</td>\n      <td>2</td>\n      <td>3</td>\n      <td>1</td>\n      <td>12</td>\n      <td>0</td>\n    </tr>\n    <tr>\n      <th>1</th>\n      <td>3</td>\n      <td>12</td>\n      <td>3</td>\n      <td>2</td>\n      <td>3</td>\n      <td>11</td>\n      <td>4</td>\n      <td>5</td>\n      <td>2</td>\n      <td>5</td>\n      <td>1</td>\n    </tr>\n    <tr>\n      <th>2</th>\n      <td>1</td>\n      <td>9</td>\n      <td>4</td>\n      <td>6</td>\n      <td>1</td>\n      <td>4</td>\n      <td>3</td>\n      <td>2</td>\n      <td>3</td>\n      <td>9</td>\n      <td>1</td>\n    </tr>\n    <tr>\n      <th>3</th>\n      <td>1</td>\n      <td>4</td>\n      <td>3</td>\n      <td>13</td>\n      <td>2</td>\n      <td>13</td>\n      <td>2</td>\n      <td>1</td>\n      <td>3</td>\n      <td>6</td>\n      <td>1</td>\n    </tr>\n    <tr>\n      <th>4</th>\n      <td>3</td>\n      <td>10</td>\n      <td>2</td>\n      <td>7</td>\n      <td>1</td>\n      <td>2</td>\n      <td>2</td>\n      <td>11</td>\n      <td>4</td>\n      <td>9</td>\n      <td>0</td>\n    </tr>\n  </tbody>\n</table>\n</div>"
     },
     "execution_count": 56,
     "metadata": {},
     "output_type": "execute_result"
    }
   ],
   "source": [
    "import pandas as pd\n",
    "import numpy as np\n",
    "from imblearn.combine import SMOTETomek, SMOTEENN\n",
    "from imblearn.over_sampling import RandomOverSampler, SMOTE\n",
    "from imblearn.under_sampling import RandomUnderSampler, ClusterCentroids\n",
    "from sklearn.metrics import accuracy_score, classification_report, confusion_matrix\n",
    "from sklearn.model_selection import train_test_split, GridSearchCV, cross_val_predict\n",
    "from sklearn.naive_bayes import GaussianNB\n",
    "from sklearn.preprocessing import StandardScaler\n",
    "from sklearn.model_selection import cross_val_score\n",
    "from sklearn.tree import DecisionTreeClassifier, export_text, tree, export_graphviz\n",
    "\n",
    "df = pd.read_csv('../data/poker-hand-tiny.csv')\n",
    "\n",
    "df.head()"
   ]
  },
  {
   "cell_type": "code",
   "execution_count": 57,
   "outputs": [
    {
     "name": "stdout",
     "output_type": "stream",
     "text": [
      "Tamaño del df:  (300000, 10)\n"
     ]
    }
   ],
   "source": [
    "# df = df[df.Mano != 9]\n",
    "# df = df[df.Mano != 8]\n",
    "# df = df[df.Mano != 7]\n",
    "# df = df[df.Mano != 6]\n",
    "# df = df[df.Mano != 5]\n",
    "# df = df[df.Mano != 4]\n",
    "# df = df[df.Mano != 3]\n",
    "# df = df[df.Mano != 2]\n",
    "# df = df[df.Mano != 1]\n",
    "# df = df[df.Mano != 0]\n",
    "\n",
    "X = df.iloc[:, 0:10].values\n",
    "y = df.iloc[:, 10].values\n",
    "\n",
    "print('Tamaño del df: ', X.shape)\n",
    "\n",
    "X_train, X_test, y_train, y_test = train_test_split(X, y, test_size=0.1, random_state=0)\n",
    "\n",
    "# over = RandomOverSampler()\n",
    "# under = RandomUnderSampler()\n",
    "# smotemek = SMOTETomek()\n",
    "# smoenn = SMOTEENN()\n",
    "# smote = SMOTE()\n",
    "# cluster_centroids = ClusterCentroids(sampling_strategy=\"auto\")\n",
    "\n",
    "# X_train, y_train = over.fit_sample(X_train, y_train)\n",
    "# print('Tamaño del df: ', X_train.shape)\n",
    "\n",
    "# feature_scaler = StandardScaler()\n",
    "# X_train = feature_scaler.fit_transform(X_train)\n",
    "# X_test = feature_scaler.transform(X_test)\n",
    "\n",
    "classifier = DecisionTreeClassifier(random_state=42)\n",
    "# all_accuracies = cross_val_score(estimator=classifier, X=X_train, y=y_train, cv=3)\n",
    "# print(\"Accuracy: %0.2f (+/- %0.2f)\" % (all_accuracies.mean(), all_accuracies.std() * 2))\n",
    "# print(all_accuracies)\n",
    "# print(all_accuracies.mean())\n",
    "# print(all_accuracies.std())\n",
    "# predictions = cross_val_predict(estimator=classifier, X=X_test, y=y_test, cv=3)\n",
    "# print(predictions)"
   ],
   "metadata": {
    "collapsed": false,
    "pycharm": {
     "name": "#%%\n"
    }
   }
  },
  {
   "cell_type": "code",
   "execution_count": 58,
   "outputs": [
    {
     "name": "stderr",
     "output_type": "stream",
     "text": [
      "/home/juan/code/manos-poker/venv/lib/python3.8/site-packages/sklearn/model_selection/_split.py:670: UserWarning: The least populated class in y has only 2 members, which is less than n_splits=3.\n",
      "  warnings.warn((\"The least populated class in y has only %d\"\n",
      "/home/juan/code/manos-poker/venv/lib/python3.8/site-packages/sklearn/metrics/_classification.py:1221: UndefinedMetricWarning: Precision and F-score are ill-defined and being set to 0.0 in labels with no predicted samples. Use `zero_division` parameter to control this behavior.\n",
      "  _warn_prf(average, modifier, msg_start, len(result))\n"
     ]
    },
    {
     "name": "stdout",
     "output_type": "stream",
     "text": [
      "{'criterion': 'entropy', 'max_depth': 15, 'max_leaf_nodes': 15, 'splitter': 'best'}\n",
      "Accuracy train/validation:  0.5351518518518518\n",
      "Accuracy test: 0.5498333333333333\n",
      "\n",
      "              precision    recall  f1-score   support\n",
      "\n",
      "           0       0.57      0.78      0.66     15183\n",
      "           1       0.51      0.37      0.43     12583\n",
      "           2       0.00      0.00      0.00      1364\n",
      "           3       0.00      0.00      0.00       619\n",
      "           4       0.00      0.00      0.00       129\n",
      "           5       0.00      0.00      0.00        61\n",
      "           6       0.00      0.00      0.00        54\n",
      "           7       0.00      0.00      0.00         6\n",
      "           8       0.00      0.00      0.00         1\n",
      "\n",
      "    accuracy                           0.55     30000\n",
      "   macro avg       0.12      0.13      0.12     30000\n",
      "weighted avg       0.50      0.55      0.51     30000\n",
      "\n",
      "[[11847  3336     0     0     0     0     0     0     0]\n",
      " [ 7935  4648     0     0     0     0     0     0     0]\n",
      " [  672   692     0     0     0     0     0     0     0]\n",
      " [  253   366     0     0     0     0     0     0     0]\n",
      " [   47    82     0     0     0     0     0     0     0]\n",
      " [   45    16     0     0     0     0     0     0     0]\n",
      " [   17    37     0     0     0     0     0     0     0]\n",
      " [    2     4     0     0     0     0     0     0     0]\n",
      " [    0     1     0     0     0     0     0     0     0]]\n"
     ]
    }
   ],
   "source": [
    "grid_param = {\n",
    "    'criterion': ['gini', 'entropy'],\n",
    "    'splitter': ['best', 'random'],\n",
    "    'max_depth': [15,17,20],\n",
    "    'max_leaf_nodes': [15]\n",
    "}\n",
    "\n",
    "gd_sr = GridSearchCV(estimator=classifier,\n",
    "                     param_grid=grid_param,\n",
    "                     scoring='accuracy',\n",
    "                     cv=3,\n",
    "                     n_jobs=-1)\n",
    "\n",
    "gd_sr.fit(X_train, y_train)\n",
    "\n",
    "best_parameters = gd_sr.best_params_\n",
    "print(best_parameters)\n",
    "\n",
    "best_result = gd_sr.best_score_\n",
    "print('Accuracy train/validation: ', best_result)\n",
    "\n",
    "prediction=gd_sr.predict(X_test)\n",
    "\n",
    "acc = accuracy_score(y_test, prediction)\n",
    "print(\"Accuracy test: \" + str(acc) + '\\n')\n",
    "print(classification_report(y_test, prediction))\n",
    "print(confusion_matrix(y_test, prediction))\n",
    "# tree.plot_tree(gd_sr)\n",
    "# r = export_text(gd_sr.fit(X_train, y_train))\n",
    "# print(r)"
   ],
   "metadata": {
    "collapsed": false,
    "pycharm": {
     "name": "#%%\n"
    }
   }
  },
  {
   "cell_type": "code",
   "execution_count": 59,
   "outputs": [
    {
     "data": {
      "text/plain": "{'mean_fit_time': array([0.81247965, 0.52687661, 0.84875417, 0.45131143, 0.69917432,\n        0.40968307, 0.81952127, 0.37662919, 0.95738347, 0.3779343 ,\n        0.78073891, 0.32005358]),\n 'std_fit_time': array([0.06046343, 0.09168661, 0.19928969, 0.06997088, 0.09354135,\n        0.06939757, 0.03970696, 0.05466356, 0.07775223, 0.0698088 ,\n        0.03804418, 0.07162204]),\n 'mean_score_time': array([0.04454541, 0.03091606, 0.0304052 , 0.02200747, 0.02347461,\n        0.02105633, 0.0232869 , 0.02433753, 0.02425726, 0.02304888,\n        0.02098028, 0.01759736]),\n 'std_score_time': array([0.00526141, 0.01070924, 0.01193804, 0.00022732, 0.00106021,\n        0.0005158 , 0.0026849 , 0.00392948, 0.00071327, 0.00168232,\n        0.00120976, 0.00206608]),\n 'param_criterion': masked_array(data=['gini', 'gini', 'gini', 'gini', 'gini', 'gini',\n                    'entropy', 'entropy', 'entropy', 'entropy', 'entropy',\n                    'entropy'],\n              mask=[False, False, False, False, False, False, False, False,\n                    False, False, False, False],\n        fill_value='?',\n             dtype=object),\n 'param_max_depth': masked_array(data=[15, 15, 17, 17, 20, 20, 15, 15, 17, 17, 20, 20],\n              mask=[False, False, False, False, False, False, False, False,\n                    False, False, False, False],\n        fill_value='?',\n             dtype=object),\n 'param_max_leaf_nodes': masked_array(data=[15, 15, 15, 15, 15, 15, 15, 15, 15, 15, 15, 15],\n              mask=[False, False, False, False, False, False, False, False,\n                    False, False, False, False],\n        fill_value='?',\n             dtype=object),\n 'param_splitter': masked_array(data=['best', 'random', 'best', 'random', 'best', 'random',\n                    'best', 'random', 'best', 'random', 'best', 'random'],\n              mask=[False, False, False, False, False, False, False, False,\n                    False, False, False, False],\n        fill_value='?',\n             dtype=object),\n 'params': [{'criterion': 'gini',\n   'max_depth': 15,\n   'max_leaf_nodes': 15,\n   'splitter': 'best'},\n  {'criterion': 'gini',\n   'max_depth': 15,\n   'max_leaf_nodes': 15,\n   'splitter': 'random'},\n  {'criterion': 'gini',\n   'max_depth': 17,\n   'max_leaf_nodes': 15,\n   'splitter': 'best'},\n  {'criterion': 'gini',\n   'max_depth': 17,\n   'max_leaf_nodes': 15,\n   'splitter': 'random'},\n  {'criterion': 'gini',\n   'max_depth': 20,\n   'max_leaf_nodes': 15,\n   'splitter': 'best'},\n  {'criterion': 'gini',\n   'max_depth': 20,\n   'max_leaf_nodes': 15,\n   'splitter': 'random'},\n  {'criterion': 'entropy',\n   'max_depth': 15,\n   'max_leaf_nodes': 15,\n   'splitter': 'best'},\n  {'criterion': 'entropy',\n   'max_depth': 15,\n   'max_leaf_nodes': 15,\n   'splitter': 'random'},\n  {'criterion': 'entropy',\n   'max_depth': 17,\n   'max_leaf_nodes': 15,\n   'splitter': 'best'},\n  {'criterion': 'entropy',\n   'max_depth': 17,\n   'max_leaf_nodes': 15,\n   'splitter': 'random'},\n  {'criterion': 'entropy',\n   'max_depth': 20,\n   'max_leaf_nodes': 15,\n   'splitter': 'best'},\n  {'criterion': 'entropy',\n   'max_depth': 20,\n   'max_leaf_nodes': 15,\n   'splitter': 'random'}],\n 'split0_test_score': array([0.53852222, 0.51463333, 0.53852222, 0.51463333, 0.53852222,\n        0.51463333, 0.54581111, 0.51256667, 0.54581111, 0.51256667,\n        0.54581111, 0.51256667]),\n 'split1_test_score': array([0.53495556, 0.50077778, 0.53495556, 0.50077778, 0.53495556,\n        0.50077778, 0.51314444, 0.5211    , 0.51314444, 0.5211    ,\n        0.51314444, 0.5211    ]),\n 'split2_test_score': array([0.52103333, 0.52816667, 0.52103333, 0.52816667, 0.52103333,\n        0.52816667, 0.5465    , 0.51412222, 0.5465    , 0.51412222,\n        0.5465    , 0.51412222]),\n 'mean_test_score': array([0.5315037 , 0.51452593, 0.5315037 , 0.51452593, 0.5315037 ,\n        0.51452593, 0.53515185, 0.51592963, 0.53515185, 0.51592963,\n        0.53515185, 0.51592963]),\n 'std_test_score': array([0.0075455 , 0.01118172, 0.0075455 , 0.01118172, 0.0075455 ,\n        0.01118172, 0.01556413, 0.00371075, 0.01556413, 0.00371075,\n        0.01556413, 0.00371075]),\n 'rank_test_score': array([ 4, 10,  4, 10,  4, 10,  1,  7,  1,  7,  1,  7], dtype=int32)}"
     },
     "execution_count": 59,
     "metadata": {},
     "output_type": "execute_result"
    }
   ],
   "source": [
    "gd_sr.cv_results_\n",
    "\n"
   ],
   "metadata": {
    "collapsed": false,
    "pycharm": {
     "name": "#%%\n"
    }
   }
  }
 ],
 "metadata": {
  "kernelspec": {
   "display_name": "Python 3",
   "language": "python",
   "name": "python3"
  },
  "language_info": {
   "codemirror_mode": {
    "name": "ipython",
    "version": 2
   },
   "file_extension": ".py",
   "mimetype": "text/x-python",
   "name": "python",
   "nbconvert_exporter": "python",
   "pygments_lexer": "ipython2",
   "version": "2.7.6"
  }
 },
 "nbformat": 4,
 "nbformat_minor": 0
}