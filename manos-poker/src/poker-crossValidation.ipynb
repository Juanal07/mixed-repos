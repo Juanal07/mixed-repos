{
 "cells": [
  {
   "cell_type": "code",
   "execution_count": 19,
   "metadata": {
    "collapsed": true
   },
   "outputs": [],
   "source": [
    "import pandas as pd\n",
    "from imblearn.over_sampling import SMOTE\n",
    "from sklearn.metrics import accuracy_score\n",
    "from sklearn.model_selection import KFold\n",
    "from sklearn.naive_bayes import GaussianNB\n",
    "from sklearn.tree import tree"
   ]
  },
  {
   "cell_type": "code",
   "execution_count": 20,
   "outputs": [
    {
     "name": "stdout",
     "output_type": "stream",
     "text": [
      "La accuracy media del modelo Naive Bayes es :  50.10 %\n",
      "La accuracy media del modelo Decision Tree es :  56.99 %\n"
     ]
    }
   ],
   "source": [
    "df = pd.read_csv('../data/poker-hand-tiny.csv')\n",
    "df = df[df.Mano != 9]\n",
    "df = df[df.Mano != 8]\n",
    "# df = df[df.Mano != 7]\n",
    "\n",
    "# print(df)\n",
    "\n",
    "# Ready the Data\n",
    "array = df.values\n",
    "data = array[:, 0:10]\n",
    "label = array[:, 10]\n",
    "\n",
    "n_splits=3\n",
    "kf = KFold(n_splits)\n",
    "kf.get_n_splits(data)\n",
    "\n",
    "models = [GaussianNB(), tree.DecisionTreeClassifier()]\n",
    "model_names = [ \"Naive Bayes\", \"Decision Tree\"]\n",
    "\n",
    "for model, name in zip(models, model_names):\n",
    "    media=0\n",
    "\n",
    "    for train_index, test_index in kf.split(data):\n",
    "        # print(\"TRAIN:\", train_index, \"TEST:\", test_index)\n",
    "        X_train, X_test = data[train_index], data[test_index]\n",
    "        y_train, y_test = label[train_index], label[test_index]\n",
    "\n",
    "        #SMOTE\n",
    "        # X_train, y_train = SMOTE().fit_resample(X_train, y_train)\n",
    "\n",
    "        #Training, prediction and accuracy\n",
    "        model.fit(X_train, y_train)\n",
    "        prediction = model.predict(X_test)\n",
    "        acc = accuracy_score(y_test, prediction)\n",
    "        media = media + acc\n",
    "\n",
    "    print('La accuracy media del modelo', name,'es : ', \"{:.2f}\".format(media/n_splits*100),'%')"
   ],
   "metadata": {
    "collapsed": false,
    "pycharm": {
     "name": "#%%\n"
    }
   }
  }
 ],
 "metadata": {
  "kernelspec": {
   "display_name": "Python 3",
   "language": "python",
   "name": "python3"
  },
  "language_info": {
   "codemirror_mode": {
    "name": "ipython",
    "version": 2
   },
   "file_extension": ".py",
   "mimetype": "text/x-python",
   "name": "python",
   "nbconvert_exporter": "python",
   "pygments_lexer": "ipython2",
   "version": "2.7.6"
  }
 },
 "nbformat": 4,
 "nbformat_minor": 0
}