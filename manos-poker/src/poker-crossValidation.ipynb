{
 "cells": [
  {
   "cell_type": "code",
   "execution_count": 24,
   "metadata": {
    "collapsed": true
   },
   "outputs": [],
   "source": [
    "import pandas as pd\n",
    "from imblearn.over_sampling import SMOTE, RandomOverSampler\n",
    "from sklearn.metrics import accuracy_score\n",
    "from sklearn.model_selection import KFold\n",
    "from sklearn.naive_bayes import GaussianNB\n",
    "from sklearn.preprocessing import StandardScaler\n",
    "from sklearn.tree import tree"
   ]
  },
  {
   "cell_type": "code",
   "execution_count": 25,
   "outputs": [
    {
     "name": "stdout",
     "output_type": "stream",
     "text": [
      "        P1  V1  P2  V2  P3  V3  P4  V4  P5  V5  Mano\n",
      "0        1   1   1  13   2   4   2   3   1  12     0\n",
      "1        3  12   3   2   3  11   4   5   2   5     1\n",
      "2        1   9   4   6   1   4   3   2   3   9     1\n",
      "3        1   4   3  13   2  13   2   1   3   6     1\n",
      "4        3  10   2   7   1   2   2  11   4   9     0\n",
      "...     ..  ..  ..  ..  ..  ..  ..  ..  ..  ..   ...\n",
      "299995   2  13   4  11   3   4   4   4   2   4     3\n",
      "299996   3   5   4  12   2   8   4   8   2  13     1\n",
      "299997   1  10   1   5   1   4   4   9   3  13     0\n",
      "299998   2   6   3   4   2   3   4   2   2  13     0\n",
      "299999   4   6   4   1   3   4   1   8   4  11     0\n",
      "\n",
      "[300000 rows x 11 columns]\n",
      "suma:  1.0\n"
     ]
    }
   ],
   "source": [
    "df = pd.read_csv('../data/poker-hand-tiny.csv')\n",
    "# df = df[df.Mano != 9]\n",
    "# df = df[df.Mano != 8]\n",
    "# df = df[df.Mano != 7]\n",
    "# df = df[df.Mano != 6]\n",
    "# df = df[df.Mano != 5]\n",
    "# df = df[df.Mano != 4]\n",
    "# df = df[df.Mano != 3]\n",
    "# df = df[df.Mano != 2]\n",
    "# df = df[df.Mano != 1]\n",
    "\n",
    "# df.loc[df['Mano'] >= 7, 'Mano'] = 7\n",
    "\n",
    "print(df)\n",
    "\n",
    "# print(df)\n",
    "\n",
    "# Ready the Data\n",
    "array = df.values\n",
    "data = array[:, 0:10]\n",
    "label = array[:, 10]\n",
    "\n",
    "n_splits=3\n",
    "kf = KFold(n_splits)\n",
    "kf.get_n_splits(data)\n",
    "\n",
    "priors=[0.5010186000000002, 0.422569, 0.047935, 0.021128, 0.003925, 0.001965, 0.001441, 0.0000024, 0.000014, 0.000002]\n",
    "# suma=0\n",
    "# for n in priors:\n",
    "#     suma+=n\n",
    "#     print(n)\n",
    "# print(suma)\n",
    "# print(1-suma+0.500781)\n",
    "models = [GaussianNB(priors), tree.DecisionTreeClassifier()]\n",
    "model_names = [ \"Naive Bayes\", \"Decision Tree\"]\n",
    "\n",
    "for model, name in zip(models, model_names):\n",
    "    media=0\n",
    "\n",
    "    for train_index, test_index in kf.split(data):\n",
    "        X_train, X_test = data[train_index], data[test_index]\n",
    "        y_train, y_test = label[train_index], label[test_index]\n",
    "        # print(train_index)\n",
    "        # print(test_index)\n",
    "\n",
    "        ros = RandomOverSampler(random_state=42)\n",
    "        X_train, y_train = ros.fit_resample(X_train, y_train)\n",
    "\n",
    "        # SMOTE\n",
    "        # X_train, y_train = SMOTE().fit_resample(X_train, y_train)\n",
    "\n",
    "        # SCALER\n",
    "        # scaler = StandardScaler()\n",
    "        # # Fit only to the training data\n",
    "        # scaler.fit(X_train)\n",
    "        # X_train = scaler.transform(X_train)\n",
    "        # X_test = scaler.transform(X_test)\n",
    "\n",
    "        #Training, prediction and accuracy\n",
    "        model.fit(X_train, y_train)\n",
    "        prediction = model.predict(X_test)\n",
    "        acc = accuracy_score(y_test, prediction)\n",
    "        media = media + acc\n",
    "\n",
    "    print('La accuracy media del modelo', name,'es : ', \"{:.2f}\".format(media/n_splits*100),'%')"
   ],
   "metadata": {
    "collapsed": false,
    "pycharm": {
     "name": "#%%\n"
    }
   }
  }
 ],
 "metadata": {
  "kernelspec": {
   "name": "python3",
   "language": "python",
   "display_name": "Python 3"
  },
  "language_info": {
   "codemirror_mode": {
    "name": "ipython",
    "version": 2
   },
   "file_extension": ".py",
   "mimetype": "text/x-python",
   "name": "python",
   "nbconvert_exporter": "python",
   "pygments_lexer": "ipython2",
   "version": "2.7.6"
  }
 },
 "nbformat": 4,
 "nbformat_minor": 0
}