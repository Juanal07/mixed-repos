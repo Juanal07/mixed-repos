{
 "cells": [
  {
   "cell_type": "code",
   "execution_count": 220,
   "outputs": [
    {
     "name": "stdout",
     "output_type": "stream",
     "text": [
      "Action Space Discrete(6)\n",
      "State Space Discrete(500)\n",
      "State: 328\n"
     ]
    },
    {
     "data": {
      "text/plain": "{0: [(1.0, 428, -1, False)],\n 1: [(1.0, 228, -1, False)],\n 2: [(1.0, 348, -1, False)],\n 3: [(1.0, 328, -1, False)],\n 4: [(1.0, 328, -10, False)],\n 5: [(1.0, 328, -10, False)]}"
     },
     "execution_count": 220,
     "metadata": {},
     "output_type": "execute_result"
    }
   ],
   "source": [
    "import gym\n",
    "import numpy as np\n",
    "\n",
    "env = gym.make(\"Taxi-v3\").env\n",
    "\n",
    "print(\"Action Space {}\".format(env.action_space))\n",
    "print(\"State Space {}\".format(env.observation_space))\n",
    "\n",
    "state = env.encode(3, 1, 2, 0)  # (taxi row, taxi column, passenger index, destination index)\n",
    "print(\"State:\", state)\n",
    "env.s = state\n",
    "# env.render()\n",
    "\n",
    "env.P[328]"
   ],
   "metadata": {
    "collapsed": false,
    "pycharm": {
     "name": "#%%\n"
    }
   }
  },
  {
   "cell_type": "code",
   "execution_count": 221,
   "outputs": [
    {
     "name": "stdout",
     "output_type": "stream",
     "text": [
      "Timesteps taken: 407\n",
      "Penalties incurred: 125\n"
     ]
    }
   ],
   "source": [
    "\n",
    "epochs = 0\n",
    "penalties, reward = 0, 0\n",
    "\n",
    "done = False\n",
    "\n",
    "while not done:\n",
    "    action = env.action_space.sample()\n",
    "    state, reward, done, info = env.step(action)\n",
    "\n",
    "    if reward == -10:\n",
    "        penalties += 1\n",
    "\n",
    "    epochs += 1\n",
    "\n",
    "print(\"Timesteps taken: {}\".format(epochs))\n",
    "print(\"Penalties incurred: {}\".format(penalties))"
   ],
   "metadata": {
    "collapsed": false,
    "pycharm": {
     "name": "#%%\n"
    }
   }
  },
  {
   "cell_type": "code",
   "execution_count": 222,
   "outputs": [
    {
     "name": "stdout",
     "output_type": "stream",
     "text": [
      "[[0. 0. 0. 0. 0. 0.]\n",
      " [0. 0. 0. 0. 0. 0.]\n",
      " [0. 0. 0. 0. 0. 0.]\n",
      " ...\n",
      " [0. 0. 0. 0. 0. 0.]\n",
      " [0. 0. 0. 0. 0. 0.]\n",
      " [0. 0. 0. 0. 0. 0.]]\n",
      "(500, 6)\n"
     ]
    }
   ],
   "source": [
    "q_table = np.zeros([env.observation_space.n, env.action_space.n])\n",
    "print(q_table)\n",
    "print(q_table.shape)"
   ],
   "metadata": {
    "collapsed": false,
    "pycharm": {
     "name": "#%%\n"
    }
   }
  },
  {
   "cell_type": "code",
   "execution_count": 223,
   "outputs": [
    {
     "name": "stdout",
     "output_type": "stream",
     "text": [
      "Episode: 200\n",
      "Training finished.\n",
      "\n"
     ]
    }
   ],
   "source": [
    "import random\n",
    "from IPython.display import clear_output\n",
    "\n",
    "# Hyperparameters\n",
    "alpha = 0.1\n",
    "gamma = 0.6\n",
    "epsilon = 0.1\n",
    "\n",
    "# For plotting metrics\n",
    "all_epochs = []\n",
    "all_penalties = []\n",
    "\n",
    "for i in range(1, 222):\n",
    "    state = env.reset()\n",
    "\n",
    "    epochs, penalties, reward, = 0, 0, 0\n",
    "    done = False\n",
    "\n",
    "    while not done:\n",
    "        if random.uniform(0, 1) < epsilon:\n",
    "            action = env.action_space.sample() # Explore action space\n",
    "        else:\n",
    "            action = np.argmax(q_table[state]) # Exploit learned values\n",
    "\n",
    "        next_state, reward, done, info = env.step(action)\n",
    "\n",
    "        old_value = q_table[state, action]\n",
    "        next_max = np.max(q_table[next_state])\n",
    "\n",
    "        new_value = (1 - alpha) * old_value + alpha * (reward + gamma * next_max)\n",
    "        q_table[state, action] = new_value\n",
    "\n",
    "        if reward == -10:\n",
    "            penalties += 1\n",
    "            # print('penalizacion!!')\n",
    "\n",
    "        state = next_state\n",
    "        epochs += 1\n",
    "\n",
    "    if i % 100 == 0:\n",
    "        clear_output(wait=True)\n",
    "        print(f\"Episode: {i}\")\n",
    "\n",
    "print(\"Training finished.\\n\")"
   ],
   "metadata": {
    "collapsed": false,
    "pycharm": {
     "name": "#%%\n"
    }
   }
  },
  {
   "cell_type": "code",
   "execution_count": 224,
   "outputs": [
    {
     "name": "stdout",
     "output_type": "stream",
     "text": [
      "[[ 0.          0.          0.          0.          0.          0.        ]\n",
      " [-2.04003172 -2.03030084 -2.02966941 -2.04683495 -2.04182511 -4.38986281]\n",
      " [-1.66148689 -1.6694922  -1.64893535 -1.66834808 -1.64862871 -5.5900142 ]\n",
      " ...\n",
      " [-1.08464046 -1.08369586 -1.08787155 -1.07984728 -1.96       -1.96      ]\n",
      " [-1.90053668 -1.91534803 -1.90099125 -1.91511989 -1.96       -3.63199137]\n",
      " [-0.196      -0.196      -0.196      -0.07       -1.         -1.        ]]\n",
      "(500, 6)\n"
     ]
    }
   ],
   "source": [
    "# q_table[328]\n",
    "print(q_table)\n",
    "print(q_table.shape)"
   ],
   "metadata": {
    "collapsed": false,
    "pycharm": {
     "name": "#%%\n"
    }
   }
  },
  {
   "cell_type": "code",
   "execution_count": 225,
   "outputs": [
    {
     "name": "stdout",
     "output_type": "stream",
     "text": [
      "cuantas 0\n",
      "penalizacion!\n",
      "cuantas 1\n",
      "penalizacion!\n",
      "cuantas 2\n",
      "penalizacion!\n",
      "cuantas 3\n",
      "penalizacion!\n",
      "cuantas 4\n",
      "penalizacion!\n",
      "cuantas 5\n",
      "penalizacion!\n",
      "cuantas 6\n",
      "penalizacion!\n",
      "cuantas 7\n",
      "penalizacion!\n",
      "cuantas 8\n",
      "penalizacion!\n",
      "cuantas 9\n",
      "penalizacion!\n",
      "cuantas 10\n",
      "penalizacion!\n",
      "cuantas 11\n",
      "penalizacion!\n",
      "cuantas 12\n",
      "penalizacion!\n",
      "cuantas 13\n",
      "penalizacion!\n",
      "cuantas 14\n",
      "penalizacion!\n",
      "cuantas 15\n",
      "penalizacion!\n",
      "cuantas 16\n",
      "penalizacion!\n",
      "cuantas 17\n",
      "penalizacion!\n",
      "cuantas 18\n",
      "penalizacion!\n",
      "cuantas 19\n",
      "penalizacion!\n",
      "cuantas 20\n",
      "penalizacion!\n",
      "cuantas 21\n",
      "penalizacion!\n",
      "cuantas 22\n",
      "penalizacion!\n",
      "cuantas 23\n",
      "penalizacion!\n",
      "cuantas 24\n",
      "penalizacion!\n",
      "cuantas 25\n",
      "penalizacion!\n",
      "cuantas 26\n",
      "penalizacion!\n",
      "cuantas 27\n",
      "penalizacion!\n",
      "cuantas 28\n",
      "penalizacion!\n",
      "cuantas 29\n",
      "acierto\n",
      "cuantas 30\n",
      "penalizacion!\n",
      "cuantas 31\n",
      "penalizacion!\n",
      "cuantas 32\n",
      "penalizacion!\n",
      "cuantas 33\n",
      "penalizacion!\n",
      "cuantas 34\n",
      "penalizacion!\n",
      "cuantas 35\n",
      "penalizacion!\n",
      "cuantas 36\n",
      "penalizacion!\n",
      "cuantas 37\n",
      "penalizacion!\n",
      "cuantas 38\n",
      "penalizacion!\n",
      "cuantas 39\n",
      "penalizacion!\n",
      "cuantas 40\n",
      "penalizacion!\n",
      "cuantas 41\n",
      "penalizacion!\n",
      "cuantas 42\n",
      "penalizacion!\n",
      "cuantas 43\n",
      "penalizacion!\n",
      "cuantas 44\n",
      "penalizacion!\n",
      "cuantas 45\n",
      "penalizacion!\n",
      "cuantas 46\n",
      "penalizacion!\n",
      "cuantas 47\n",
      "penalizacion!\n",
      "cuantas 48\n",
      "penalizacion!\n",
      "cuantas 49\n",
      "penalizacion!\n",
      "cuantas 50\n",
      "penalizacion!\n",
      "cuantas 51\n",
      "penalizacion!\n",
      "cuantas 52\n",
      "penalizacion!\n",
      "cuantas 53\n",
      "penalizacion!\n",
      "cuantas 54\n",
      "penalizacion!\n",
      "cuantas 55\n",
      "penalizacion!\n",
      "cuantas 56\n",
      "penalizacion!\n",
      "cuantas 57\n",
      "penalizacion!\n",
      "cuantas 58\n",
      "penalizacion!\n",
      "cuantas 59\n",
      "penalizacion!\n",
      "cuantas 60\n",
      "penalizacion!\n",
      "cuantas 61\n",
      "penalizacion!\n",
      "cuantas 62\n",
      "penalizacion!\n",
      "cuantas 63\n",
      "penalizacion!\n",
      "cuantas 64\n",
      "penalizacion!\n",
      "cuantas 65\n",
      "penalizacion!\n",
      "cuantas 66\n",
      "penalizacion!\n",
      "cuantas 67\n",
      "penalizacion!\n",
      "cuantas 68\n",
      "penalizacion!\n",
      "cuantas 69\n",
      "penalizacion!\n",
      "cuantas 70\n",
      "penalizacion!\n",
      "cuantas 71\n",
      "penalizacion!\n",
      "cuantas 72\n",
      "penalizacion!\n",
      "cuantas 73\n",
      "acierto\n",
      "cuantas 74\n",
      "penalizacion!\n",
      "cuantas 75\n",
      "penalizacion!\n",
      "cuantas 76\n",
      "penalizacion!\n",
      "cuantas 77\n",
      "penalizacion!\n",
      "cuantas 78\n",
      "penalizacion!\n",
      "cuantas 79\n",
      "penalizacion!\n",
      "cuantas 80\n",
      "penalizacion!\n",
      "cuantas 81\n",
      "penalizacion!\n",
      "cuantas 82\n",
      "penalizacion!\n",
      "cuantas 83\n",
      "penalizacion!\n",
      "cuantas 84\n",
      "penalizacion!\n",
      "cuantas 85\n",
      "penalizacion!\n",
      "cuantas 86\n",
      "penalizacion!\n",
      "cuantas 87\n",
      "penalizacion!\n",
      "cuantas 88\n",
      "penalizacion!\n",
      "cuantas 89\n",
      "penalizacion!\n",
      "cuantas 90\n",
      "penalizacion!\n",
      "cuantas 91\n",
      "penalizacion!\n",
      "cuantas 92\n",
      "penalizacion!\n",
      "cuantas 93\n",
      "penalizacion!\n",
      "cuantas 94\n",
      "penalizacion!\n",
      "cuantas 95\n",
      "penalizacion!\n",
      "cuantas 96\n",
      "penalizacion!\n",
      "cuantas 97\n",
      "penalizacion!\n",
      "cuantas 98\n",
      "penalizacion!\n",
      "cuantas 99\n",
      "penalizacion!\n",
      "Results after 100 episodes:\n",
      "Total penalties: 98\n",
      "Total aciertos: 2\n"
     ]
    }
   ],
   "source": [
    "\"\"\"Evaluate agent's performance after Q-learning\"\"\"\n",
    "\n",
    "total_epochs, total_penalties, total_aciertos = 0, 0, 0\n",
    "episodes = 100\n",
    "\n",
    "for _ in range(episodes):\n",
    "    state = env.reset()\n",
    "    epochs, penalties, reward = 0, 0, 0\n",
    "    acierto=0\n",
    "\n",
    "    done = False\n",
    "\n",
    "    print('cuantas',_)\n",
    "\n",
    "    while epochs<30 and reward != -10 and not done:\n",
    "        action = np.argmax(q_table[state])\n",
    "        state, reward, done, info = env.step(action)\n",
    "        # print('bucle while')\n",
    "\n",
    "        if reward == -10 or epochs == 29:\n",
    "            penalties += 1\n",
    "            print('penalizacion!')\n",
    "\n",
    "        if done:\n",
    "            print('acierto')\n",
    "            acierto += 1\n",
    "        epochs += 1\n",
    "\n",
    "\n",
    "    total_penalties += penalties\n",
    "    total_epochs += epochs\n",
    "    total_aciertos += acierto\n",
    "\n",
    "print(f\"Results after {episodes} episodes:\")\n",
    "print(f\"Total penalties: {total_penalties}\")\n",
    "print(f\"Total aciertos: {total_aciertos}\")\n",
    "# print(f\"Average timesteps per episode: {total_epochs / episodes}\")\n",
    "# print(f\"Average penalties per episode: {total_penalties / episodes}\")\n"
   ],
   "metadata": {
    "collapsed": false,
    "pycharm": {
     "name": "#%%\n"
    }
   }
  }
 ],
 "metadata": {
  "kernelspec": {
   "name": "python3",
   "language": "python",
   "display_name": "Python 3"
  },
  "language_info": {
   "codemirror_mode": {
    "name": "ipython",
    "version": 2
   },
   "file_extension": ".py",
   "mimetype": "text/x-python",
   "name": "python",
   "nbconvert_exporter": "python",
   "pygments_lexer": "ipython2",
   "version": "2.7.6"
  }
 },
 "nbformat": 4,
 "nbformat_minor": 0
}