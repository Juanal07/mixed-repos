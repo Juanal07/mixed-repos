{
 "cells": [
  {
   "cell_type": "code",
   "execution_count": 31,
   "outputs": [],
   "source": [
    "import gym\n",
    "import numpy as np\n",
    "import matplotlib.pyplot as plt\n",
    "import random\n",
    "from IPython.display import clear_output"
   ],
   "metadata": {
    "collapsed": false,
    "pycharm": {
     "name": "#%% imports\n"
    }
   }
  },
  {
   "cell_type": "code",
   "execution_count": 32,
   "outputs": [
    {
     "name": "stdout",
     "output_type": "stream",
     "text": [
      "Action Space Discrete(6)\n",
      "State Space Discrete(500)\n"
     ]
    }
   ],
   "source": [
    "env = gym.make(\"Taxi-v3\").env\n",
    "print(\"Action Space {}\".format(env.action_space))\n",
    "print(\"State Space {}\".format(env.observation_space))"
   ],
   "metadata": {
    "collapsed": false,
    "pycharm": {
     "name": "#%%\n"
    }
   }
  },
  {
   "cell_type": "code",
   "execution_count": 33,
   "outputs": [
    {
     "name": "stdout",
     "output_type": "stream",
     "text": [
      "[[0. 0. 0. 0. 0. 0.]\n",
      " [0. 0. 0. 0. 0. 0.]\n",
      " [0. 0. 0. 0. 0. 0.]\n",
      " ...\n",
      " [0. 0. 0. 0. 0. 0.]\n",
      " [0. 0. 0. 0. 0. 0.]\n",
      " [0. 0. 0. 0. 0. 0.]]\n",
      "(500, 6)\n"
     ]
    }
   ],
   "source": [
    "q_table = np.zeros([env.observation_space.n, env.action_space.n])\n",
    "print(q_table)\n",
    "print(q_table.shape)"
   ],
   "metadata": {
    "collapsed": false,
    "pycharm": {
     "name": "#%% q-table init\n"
    }
   }
  },
  {
   "cell_type": "code",
   "execution_count": 34,
   "outputs": [
    {
     "name": "stdout",
     "output_type": "stream",
     "text": [
      "Episode: 2400\n",
      "Training finished.\n",
      "\n",
      "Recompensa media:  -37.87639999999995\n"
     ]
    },
    {
     "data": {
      "text/plain": "<Figure size 432x288 with 1 Axes>",
      "image/png": "[encoded data removed]"
     },
     "metadata": {
      "needs_background": "light"
     },
     "output_type": "display_data"
    },
    {
     "data": {
      "text/plain": "<Figure size 432x288 with 1 Axes>",
      "image/png": "[encoded data removed]"
     },
     "metadata": {
      "needs_background": "light"
     },
     "output_type": "display_data"
    }
   ],
   "source": [
    "# Hyperparameters\n",
    "alpha = 0.1\n",
    "gamma = 0.6\n",
    "\n",
    "epsilon = 1.0\n",
    "min_epsilon = 0.0\n",
    "reward_target = 20\n",
    "steps_to_take = reward_target\n",
    "reward_increment = 1\n",
    "reward_threshold = 0\n",
    "epsilon_delta = (epsilon - min_epsilon)/steps_to_take\n",
    "\n",
    "all_epochs = []\n",
    "all_penalties = []\n",
    "\n",
    "epis = 2500\n",
    "reward_media = 0\n",
    "\n",
    "array_epsilon = []\n",
    "array_reward = []\n",
    "array_ep = []\n",
    "\n",
    "for i in range(1, epis):\n",
    "    state = env.reset()\n",
    "    epochs, penalties, reward, = 0, 0, 0\n",
    "    done = False\n",
    "    reward_count = 0\n",
    "    while not done:\n",
    "        if random.uniform(0, 1) < epsilon:\n",
    "            action = env.action_space.sample() # Explore action space\n",
    "        else:\n",
    "            action = np.argmax(q_table[state]) # Exploit learned values\n",
    "        next_state, reward, done, info = env.step(action)\n",
    "        old_value = q_table[state, action]\n",
    "        next_max = np.max(q_table[next_state])\n",
    "        new_value = (1 - alpha) * old_value + alpha * (reward + gamma * next_max - old_value)\n",
    "        q_table[state, action] = new_value\n",
    "        if reward == -10:\n",
    "            penalties += 1\n",
    "        state = next_state\n",
    "        epochs += 1\n",
    "\n",
    "        array_epsilon.append(epsilon)\n",
    "\n",
    "        if epsilon > min_epsilon and reward >= reward_threshold:\n",
    "            epsilon = epsilon - epsilon_delta\n",
    "            reward_threshold = reward_threshold + reward_increment\n",
    "\n",
    "        reward_count +=reward\n",
    "\n",
    "    # print(f\"Recomepnsas en episodio {i}: {reward_count}\")\n",
    "    reward_media += reward_count/epis\n",
    "    array_reward.append(reward_count)\n",
    "    array_ep.append(i)\n",
    "    if i % 100 == 0:\n",
    "        clear_output(wait=True)\n",
    "        print(f\"Episode: {i}\")\n",
    "\n",
    "print(\"Training finished.\\n\")\n",
    "print(\"Recompensa media: \", reward_media)\n",
    "\n",
    "plt.plot(array_ep, array_reward)\n",
    "plt.ylabel('Recompensa')\n",
    "plt.xlabel('Episodios')\n",
    "plt.show()\n",
    "plt.plot(array_epsilon)\n",
    "plt.ylabel('Epsilon value')\n",
    "plt.show()"
   ],
   "metadata": {
    "collapsed": false,
    "pycharm": {
     "name": "#%% train\n"
    }
   }
  },
  {
   "cell_type": "code",
   "execution_count": 35,
   "outputs": [
    {
     "name": "stdout",
     "output_type": "stream",
     "text": [
      "Results after 100 episodes:\n",
      "Total errors: 52\n",
      "Total succes: 48\n",
      "Average timesteps per episode: 83.71\n",
      "Average penalties per episode: 0.52\n"
     ]
    }
   ],
   "source": [
    "\"\"\"Evaluate agent's performance after Q-learning\"\"\"\n",
    "\n",
    "total_epochs, total_penalties, total_aciertos = 0, 0, 0\n",
    "episodes = 100\n",
    "\n",
    "for _ in range(episodes):\n",
    "    state = env.reset()\n",
    "    epochs, penalties, reward = 0, 0, 0\n",
    "    acierto=0\n",
    "    done = False\n",
    "    while epochs<150 and reward != -10 and not done:\n",
    "        action = np.argmax(q_table[state])\n",
    "        state, reward, done, info = env.step(action)\n",
    "        if reward == -10 or epochs == 149:\n",
    "            penalties += 1\n",
    "        if done:\n",
    "            acierto += 1\n",
    "        epochs += 1\n",
    "    total_penalties += penalties\n",
    "    total_epochs += epochs\n",
    "    total_aciertos += acierto\n",
    "\n",
    "print(f\"Results after {episodes} episodes:\")\n",
    "print(f\"Total errors: {total_penalties}\")\n",
    "print(f\"Total succes: {total_aciertos}\")\n",
    "print(f\"Average timesteps per episode: {total_epochs / episodes}\")\n",
    "print(f\"Average penalties per episode: {total_penalties / episodes}\")\n"
   ],
   "metadata": {
    "collapsed": false,
    "pycharm": {
     "name": "#%% test\n"
    }
   }
  }
 ],
 "metadata": {
  "kernelspec": {
   "name": "python3",
   "language": "python",
   "display_name": "Python 3"
  },
  "language_info": {
   "codemirror_mode": {
    "name": "ipython",
    "version": 2
   },
   "file_extension": ".py",
   "mimetype": "text/x-python",
   "name": "python",
   "nbconvert_exporter": "python",
   "pygments_lexer": "ipython2",
   "version": "2.7.6"
  }
 },
 "nbformat": 4,
 "nbformat_minor": 0
}