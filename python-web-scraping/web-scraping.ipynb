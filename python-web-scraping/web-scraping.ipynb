{
 "cells": [
  {
   "cell_type": "code",
   "execution_count": 11,
   "metadata": {
    "collapsed": true,
    "pycharm": {
     "name": "#%%\n"
    }
   },
   "outputs": [],
   "source": [
    "import re\n",
    "import requests\n",
    "from bs4 import BeautifulSoup\n",
    "import os"
   ]
  },
  {
   "cell_type": "code",
   "execution_count": 12,
   "outputs": [
    {
     "name": "stdout",
     "output_type": "stream",
     "text": [
      "0\n",
      "1\n",
      "2\n",
      "3\n",
      "4\n",
      "5\n",
      "6\n",
      "7\n",
      "8\n",
      "9\n",
      "10\n",
      "11\n",
      "12\n",
      "13\n",
      "14\n",
      "15\n",
      "16\n",
      "17\n",
      "18\n",
      "19\n",
      "20\n",
      "21\n",
      "22\n",
      "23\n",
      "24\n",
      "25\n",
      "26\n"
     ]
    }
   ],
   "source": [
    "URL = 'https://votainteligente.cl/propuestas/'\n",
    "page = requests.get(URL)\n",
    "soup = BeautifulSoup(page.content, 'html.parser')\n",
    "results = soup.find(id='posts')\n",
    "job_elems = results.find_all('div', class_='post')\n",
    "i = 0\n",
    "while i < 27:\n",
    "    for job_elem in job_elems:\n",
    "        try:\n",
    "            category = job_elem.find('a')['href']\n",
    "            category = re.search(\"clasification=(.*)\", category)\n",
    "            category = category.group(1)\n",
    "            title = job_elem.find('h4')\n",
    "            title = title.text\n",
    "            title = re.sub(\"/\", \"-\", title)\n",
    "            leer_mas = job_elem.find('a', class_='btn btn-blue pull-right')['href']\n",
    "            URL = 'https://votainteligente.cl'+leer_mas\n",
    "            page = requests.get(URL)\n",
    "            soup = BeautifulSoup(page.content, 'html.parser')\n",
    "            cuerpo = soup.find('div', class_='col-md-12')\n",
    "            cuerpo = cuerpo.find('p')\n",
    "            cuerpo = cuerpo.text\n",
    "            # print('Categoria: '+category)\n",
    "            # print('Titulo: '+title)\n",
    "            # print('Cuerpo: ' + cuerpo)\n",
    "            # print()\n",
    "            if not os.path.exists('./dataset/'+category):\n",
    "                os.makedirs('./dataset/'+category)\n",
    "            f= open('./dataset/'+category+'/'+title,\"w+\")\n",
    "            f.write(cuerpo)\n",
    "            f.close()\n",
    "        except:\n",
    "            continue\n",
    "    print(i)\n",
    "    i += 1\n",
    "    URL = 'https://votainteligente.cl/propuestas/?page='+str(i)\n",
    "    page = requests.get(URL)\n",
    "    soup = BeautifulSoup(page.content, 'html.parser')\n",
    "    results = soup.find(id='posts')\n",
    "    job_elems = results.find_all('div', class_='post')\n"
   ],
   "metadata": {
    "collapsed": false,
    "pycharm": {
     "name": "#%%\n"
    }
   }
  }
 ],
 "metadata": {
  "kernelspec": {
   "display_name": "Python 3",
   "language": "python",
   "name": "python3"
  },
  "language_info": {
   "codemirror_mode": {
    "name": "ipython",
    "version": 2
   },
   "file_extension": ".py",
   "mimetype": "text/x-python",
   "name": "python",
   "nbconvert_exporter": "python",
   "pygments_lexer": "ipython2",
   "version": "2.7.6"
  }
 },
 "nbformat": 4,
 "nbformat_minor": 0
}